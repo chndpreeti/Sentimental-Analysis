{
 "cells": [
  {
   "cell_type": "code",
   "execution_count": 1,
   "id": "9e9c2b36",
   "metadata": {},
   "outputs": [],
   "source": [
    "# Import necessary libraries\n",
    "import pandas as pd\n",
    "import numpy as np\n",
    "import matplotlib.pyplot as plt\n",
    "import seaborn as sns\n",
    "from google_play_scraper import app, Sort, reviews_all"
   ]
  },
  {
   "cell_type": "markdown",
   "id": "6c53ead2",
   "metadata": {},
   "source": [
    "# Scraping reviews of Zomato from Google playstore"
   ]
  },
  {
   "cell_type": "code",
   "execution_count": 2,
   "id": "08ed4572",
   "metadata": {},
   "outputs": [],
   "source": [
    "# Define and configure Google Play Scraper library\n",
    "users_reviews = reviews_all(\n",
    "    'com.application.zomato',\n",
    "    sleep_milliseconds=0,\n",
    "    lang='en', \n",
    "    country='in', \n",
    "    sort=Sort.NEWEST, # Default is Sort.MOST_RELEVANT.\n",
    ")"
   ]
  },
  {
   "cell_type": "code",
   "execution_count": 3,
   "id": "596fa975",
   "metadata": {},
   "outputs": [],
   "source": [
    "# Convert collected reviews data into dataframe\n",
    "df_reviews = pd.DataFrame(np.array(users_reviews),columns=['review'])\n",
    "df_reviews = df_reviews.join(pd.DataFrame(df_reviews.pop('review').tolist()))\n",
    "# Display dataframe header\n",
    "df_reviews.head()"
   ]
  },
  {
   "cell_type": "code",
   "execution_count": 4,
   "id": "b58aa551",
   "metadata": {},
   "outputs": [],
   "source": [
    "df_reviews"
   ]
  },
  {
   "cell_type": "code",
   "execution_count": 5,
   "id": "2fe5c669",
   "metadata": {},
   "outputs": [
    {
     "data": {
      "text/html": [
       "<div>\n",
       "<style scoped>\n",
       "    .dataframe tbody tr th:only-of-type {\n",
       "        vertical-align: middle;\n",
       "    }\n",
       "\n",
       "    .dataframe tbody tr th {\n",
       "        vertical-align: top;\n",
       "    }\n",
       "\n",
       "    .dataframe thead th {\n",
       "        text-align: right;\n",
       "    }\n",
       "</style>\n",
       "<table border=\"1\" class=\"dataframe\">\n",
       "  <thead>\n",
       "    <tr style=\"text-align: right;\">\n",
       "      <th></th>\n",
       "      <th>reviewId</th>\n",
       "      <th>userName</th>\n",
       "      <th>userImage</th>\n",
       "      <th>content</th>\n",
       "      <th>score</th>\n",
       "      <th>thumbsUpCount</th>\n",
       "      <th>reviewCreatedVersion</th>\n",
       "      <th>at</th>\n",
       "      <th>replyContent</th>\n",
       "      <th>repliedAt</th>\n",
       "    </tr>\n",
       "  </thead>\n",
       "  <tbody>\n",
       "    <tr>\n",
       "      <th>0</th>\n",
       "      <td>225e211c-a133-4c2b-af3f-4db642b12553</td>\n",
       "      <td>Jaspreet6248@gmail.com Jaspreet</td>\n",
       "      <td>https://play-lh.googleusercontent.com/a/AItbvm...</td>\n",
       "      <td>Gud</td>\n",
       "      <td>5</td>\n",
       "      <td>0</td>\n",
       "      <td>16.5.7</td>\n",
       "      <td>07-07-2022 19:23</td>\n",
       "      <td>NaN</td>\n",
       "      <td>NaN</td>\n",
       "    </tr>\n",
       "    <tr>\n",
       "      <th>1</th>\n",
       "      <td>94b74826-b3c6-40e3-bd60-2db6e4473d07</td>\n",
       "      <td>Muhammed Abdullah</td>\n",
       "      <td>https://play-lh.googleusercontent.com/a-/AFdZu...</td>\n",
       "      <td>High rates</td>\n",
       "      <td>1</td>\n",
       "      <td>0</td>\n",
       "      <td>16.5.2</td>\n",
       "      <td>07-07-2022 19:22</td>\n",
       "      <td>Hi there, 'taxes &amp; charges' include delivery f...</td>\n",
       "      <td>12-06-2022 21:14</td>\n",
       "    </tr>\n",
       "    <tr>\n",
       "      <th>2</th>\n",
       "      <td>f80c862e-b827-430c-a573-f7509fb37782</td>\n",
       "      <td>Anil Koul</td>\n",
       "      <td>https://play-lh.googleusercontent.com/a-/AFdZu...</td>\n",
       "      <td>It took 1.5 hours to cover a distance of 1 km ...</td>\n",
       "      <td>1</td>\n",
       "      <td>0</td>\n",
       "      <td>16.5.7</td>\n",
       "      <td>07-07-2022 19:22</td>\n",
       "      <td>NaN</td>\n",
       "      <td>NaN</td>\n",
       "    </tr>\n",
       "    <tr>\n",
       "      <th>3</th>\n",
       "      <td>86f29e3f-391f-406b-897e-86af59cf6218</td>\n",
       "      <td>anu radhakrishnan</td>\n",
       "      <td>https://play-lh.googleusercontent.com/a/AItbvm...</td>\n",
       "      <td>Nice</td>\n",
       "      <td>5</td>\n",
       "      <td>0</td>\n",
       "      <td>16.2.2</td>\n",
       "      <td>07-07-2022 19:20</td>\n",
       "      <td>NaN</td>\n",
       "      <td>NaN</td>\n",
       "    </tr>\n",
       "    <tr>\n",
       "      <th>4</th>\n",
       "      <td>649c3f8e-f50e-4845-9ca9-007aa8f1442a</td>\n",
       "      <td>Simran Kaur</td>\n",
       "      <td>https://play-lh.googleusercontent.com/a-/AFdZu...</td>\n",
       "      <td>V good app</td>\n",
       "      <td>4</td>\n",
       "      <td>0</td>\n",
       "      <td>16.5.7</td>\n",
       "      <td>07-07-2022 19:18</td>\n",
       "      <td>NaN</td>\n",
       "      <td>NaN</td>\n",
       "    </tr>\n",
       "  </tbody>\n",
       "</table>\n",
       "</div>"
      ],
      "text/plain": [
       "                               reviewId                         userName  \\\n",
       "0  225e211c-a133-4c2b-af3f-4db642b12553  Jaspreet6248@gmail.com Jaspreet   \n",
       "1  94b74826-b3c6-40e3-bd60-2db6e4473d07                Muhammed Abdullah   \n",
       "2  f80c862e-b827-430c-a573-f7509fb37782                        Anil Koul   \n",
       "3  86f29e3f-391f-406b-897e-86af59cf6218                anu radhakrishnan   \n",
       "4  649c3f8e-f50e-4845-9ca9-007aa8f1442a                      Simran Kaur   \n",
       "\n",
       "                                           userImage  \\\n",
       "0  https://play-lh.googleusercontent.com/a/AItbvm...   \n",
       "1  https://play-lh.googleusercontent.com/a-/AFdZu...   \n",
       "2  https://play-lh.googleusercontent.com/a-/AFdZu...   \n",
       "3  https://play-lh.googleusercontent.com/a/AItbvm...   \n",
       "4  https://play-lh.googleusercontent.com/a-/AFdZu...   \n",
       "\n",
       "                                             content  score  thumbsUpCount  \\\n",
       "0                                                Gud      5              0   \n",
       "1                                         High rates      1              0   \n",
       "2  It took 1.5 hours to cover a distance of 1 km ...      1              0   \n",
       "3                                               Nice      5              0   \n",
       "4                                         V good app      4              0   \n",
       "\n",
       "  reviewCreatedVersion                at  \\\n",
       "0               16.5.7  07-07-2022 19:23   \n",
       "1               16.5.2  07-07-2022 19:22   \n",
       "2               16.5.7  07-07-2022 19:22   \n",
       "3               16.2.2  07-07-2022 19:20   \n",
       "4               16.5.7  07-07-2022 19:18   \n",
       "\n",
       "                                        replyContent         repliedAt  \n",
       "0                                                NaN               NaN  \n",
       "1  Hi there, 'taxes & charges' include delivery f...  12-06-2022 21:14  \n",
       "2                                                NaN               NaN  \n",
       "3                                                NaN               NaN  \n",
       "4                                                NaN               NaN  "
      ]
     },
     "execution_count": 5,
     "metadata": {},
     "output_type": "execute_result"
    }
   ],
   "source": [
    "df_reviews.head(5)"
   ]
  },
  {
   "cell_type": "code",
   "execution_count": 6,
   "id": "06d4b48b",
   "metadata": {},
   "outputs": [
    {
     "name": "stdout",
     "output_type": "stream",
     "text": [
      "<class 'pandas.core.frame.DataFrame'>\n",
      "RangeIndex: 438795 entries, 0 to 438794\n",
      "Data columns (total 10 columns):\n",
      " #   Column                Non-Null Count   Dtype \n",
      "---  ------                --------------   ----- \n",
      " 0   reviewId              438795 non-null  object\n",
      " 1   userName              438795 non-null  object\n",
      " 2   userImage             438795 non-null  object\n",
      " 3   content               438791 non-null  object\n",
      " 4   score                 438795 non-null  int64 \n",
      " 5   thumbsUpCount         438795 non-null  int64 \n",
      " 6   reviewCreatedVersion  372967 non-null  object\n",
      " 7   at                    438795 non-null  object\n",
      " 8   replyContent          226781 non-null  object\n",
      " 9   repliedAt             226781 non-null  object\n",
      "dtypes: int64(2), object(8)\n",
      "memory usage: 33.5+ MB\n"
     ]
    }
   ],
   "source": [
    "# Check dataframe information\n",
    "df_reviews.info()"
   ]
  },
  {
   "cell_type": "code",
   "execution_count": 7,
   "id": "0e4fb8f1",
   "metadata": {},
   "outputs": [
    {
     "data": {
      "text/plain": [
       "5    237403\n",
       "1    134587\n",
       "4     41308\n",
       "3     13977\n",
       "2     11520\n",
       "Name: score, dtype: int64"
      ]
     },
     "execution_count": 7,
     "metadata": {},
     "output_type": "execute_result"
    }
   ],
   "source": [
    "# Count number of review scores\n",
    "df_reviews['score'].value_counts()"
   ]
  },
  {
   "cell_type": "markdown",
   "id": "c2c049c2",
   "metadata": {},
   "source": [
    "##### There are 237403 reviews with 5 star rating and 11520 with low ratings"
   ]
  },
  {
   "cell_type": "code",
   "execution_count": 8,
   "id": "efb8c399",
   "metadata": {},
   "outputs": [
    {
     "data": {
      "text/plain": [
       "<AxesSubplot:ylabel='score'>"
      ]
     },
     "execution_count": 8,
     "metadata": {},
     "output_type": "execute_result"
    },
    {
     "data": {
      "image/png": "[encoded data removed]",
      "text/plain": [
       "<Figure size 720x576 with 1 Axes>"
      ]
     },
     "metadata": {},
     "output_type": "display_data"
    }
   ],
   "source": [
    "# Visualizing the  review scores as pie chart\n",
    "df_reviews['score'].value_counts().plot(kind='pie',figsize=(10,8), autopct='%1.1f%%')"
   ]
  },
  {
   "cell_type": "markdown",
   "id": "54254579",
   "metadata": {},
   "source": [
    "#### People who rated 5 are 54.1%\n",
    "#### People who rated 4 are 9.4%\n",
    "#### People who rated 3 are 3.2%\n",
    "#### People who rated 2 are 2.6%\n",
    "#### People who rated 1 are 30.7%"
   ]
  },
  {
   "cell_type": "code",
   "execution_count": 9,
   "id": "c62aba9a",
   "metadata": {},
   "outputs": [],
   "source": [
    "# Create new dataframe with review content and score for further analysis\n",
    "df_reviews_content = pd.DataFrame(df_reviews, columns=['content','score'])"
   ]
  },
  {
   "cell_type": "code",
   "execution_count": 10,
   "id": "db45e845",
   "metadata": {},
   "outputs": [
    {
     "data": {
      "text/html": [
       "<div>\n",
       "<style scoped>\n",
       "    .dataframe tbody tr th:only-of-type {\n",
       "        vertical-align: middle;\n",
       "    }\n",
       "\n",
       "    .dataframe tbody tr th {\n",
       "        vertical-align: top;\n",
       "    }\n",
       "\n",
       "    .dataframe thead th {\n",
       "        text-align: right;\n",
       "    }\n",
       "</style>\n",
       "<table border=\"1\" class=\"dataframe\">\n",
       "  <thead>\n",
       "    <tr style=\"text-align: right;\">\n",
       "      <th></th>\n",
       "      <th>content</th>\n",
       "      <th>score</th>\n",
       "    </tr>\n",
       "  </thead>\n",
       "  <tbody>\n",
       "    <tr>\n",
       "      <th>0</th>\n",
       "      <td>Gud</td>\n",
       "      <td>5</td>\n",
       "    </tr>\n",
       "    <tr>\n",
       "      <th>1</th>\n",
       "      <td>High rates</td>\n",
       "      <td>1</td>\n",
       "    </tr>\n",
       "    <tr>\n",
       "      <th>2</th>\n",
       "      <td>It took 1.5 hours to cover a distance of 1 km ...</td>\n",
       "      <td>1</td>\n",
       "    </tr>\n",
       "    <tr>\n",
       "      <th>3</th>\n",
       "      <td>Nice</td>\n",
       "      <td>5</td>\n",
       "    </tr>\n",
       "    <tr>\n",
       "      <th>4</th>\n",
       "      <td>V good app</td>\n",
       "      <td>4</td>\n",
       "    </tr>\n",
       "  </tbody>\n",
       "</table>\n",
       "</div>"
      ],
      "text/plain": [
       "                                             content  score\n",
       "0                                                Gud      5\n",
       "1                                         High rates      1\n",
       "2  It took 1.5 hours to cover a distance of 1 km ...      1\n",
       "3                                               Nice      5\n",
       "4                                         V good app      4"
      ]
     },
     "execution_count": 10,
     "metadata": {},
     "output_type": "execute_result"
    }
   ],
   "source": [
    "# Display new dataframe header\n",
    "df_reviews_content.head()"
   ]
  },
  {
   "cell_type": "markdown",
   "id": "6883068a",
   "metadata": {},
   "source": [
    "# Analzing with Azure Text Analysis "
   ]
  },
  {
   "cell_type": "code",
   "execution_count": 11,
   "id": "81de7c28",
   "metadata": {},
   "outputs": [],
   "source": [
    "# Import necessary libraries\n",
    "from azure.ai.textanalytics import TextAnalyticsClient\n",
    "from azure.core.credentials import AzureKeyCredential"
   ]
  },
  {
   "cell_type": "code",
   "execution_count": 12,
   "id": "30fe5f94",
   "metadata": {},
   "outputs": [],
   "source": [
    "# Define the service key and endpoint of Azure Text Analytics\n",
    "key = \"your key \"\n",
    "endpoint = \"your endpoint\""
   ]
  },
  {
   "cell_type": "code",
   "execution_count": 13,
   "id": "64049a2b",
   "metadata": {},
   "outputs": [],
   "source": [
    "# Configure Azure Text Analytics client library\n",
    "ta_credential = AzureKeyCredential(key)\n",
    "text_analytics_client = \n",
    "TextAnalyticsClient(\n",
    "        endpoint=endpoint, \n",
    "        credential=ta_credential)\n",
    "client = text_analytics_client\n",
    "\n",
    "reviews_content_sentiment = []\n"
   ]
  },
  {
   "cell_type": "code",
   "execution_count": 14,
   "id": "8a247f2a",
   "metadata": {},
   "outputs": [],
   "source": [
    "\n",
    "# Pass review content to Azure Text Analytics and collect sentiment result\n",
    "for index, headers in df_reviews_content.iterrows():\n",
    "    \n",
    "    reviews_content = str(headers['content'])\n",
    "    print(\"Review Content: {}\".format(reviews_content))\n",
    "    \n",
    "    documents = [reviews_content]\n",
    "    response = client.analyze_sentiment(documents=documents)[0]\n",
    "    sentiment = response.sentiment\n",
    "    print(\"Content Sentiment: {}\".format(sentiment))\n",
    "    \n",
    "    reviews_score = str(headers['score'])\n",
    "    print(\"Review Content Sentiment Score: {}\".format(reviews_score))\n",
    "    \n",
    "    reviews_content_sentiment.append([reviews_content, sentiment, reviews_score])\n"
   ]
  },
  {
   "cell_type": "code",
   "execution_count": 16,
   "id": "46a3c41a",
   "metadata": {},
   "outputs": [],
   "source": [
    "# Convert collected news headers with sentiment to Pandas dataframes.\n",
    "reviews_sentiment = pd.DataFrame(reviews_content_sentiment, columns=['content','sentiment','reviews_score'])"
   ]
  },
  {
   "cell_type": "code",
   "execution_count": 17,
   "id": "a77837a1",
   "metadata": {},
   "outputs": [],
   "source": [
    "reviews_sentiment"
   ]
  },
  {
   "cell_type": "code",
   "execution_count": 18,
   "id": "2ff3094a",
   "metadata": {},
   "outputs": [
    {
     "data": {
      "text/html": [
       "<div>\n",
       "<style scoped>\n",
       "    .dataframe tbody tr th:only-of-type {\n",
       "        vertical-align: middle;\n",
       "    }\n",
       "\n",
       "    .dataframe tbody tr th {\n",
       "        vertical-align: top;\n",
       "    }\n",
       "\n",
       "    .dataframe thead th {\n",
       "        text-align: right;\n",
       "    }\n",
       "</style>\n",
       "<table border=\"1\" class=\"dataframe\">\n",
       "  <thead>\n",
       "    <tr style=\"text-align: right;\">\n",
       "      <th></th>\n",
       "      <th>content</th>\n",
       "      <th>sentiment</th>\n",
       "      <th>reviews_score</th>\n",
       "    </tr>\n",
       "  </thead>\n",
       "  <tbody>\n",
       "    <tr>\n",
       "      <th>0</th>\n",
       "      <td>Gud</td>\n",
       "      <td>neutral</td>\n",
       "      <td>5</td>\n",
       "    </tr>\n",
       "    <tr>\n",
       "      <th>1</th>\n",
       "      <td>High rates</td>\n",
       "      <td>neutral</td>\n",
       "      <td>1</td>\n",
       "    </tr>\n",
       "    <tr>\n",
       "      <th>2</th>\n",
       "      <td>It took 1.5 hours to cover a distance of 1 km ...</td>\n",
       "      <td>negative</td>\n",
       "      <td>1</td>\n",
       "    </tr>\n",
       "    <tr>\n",
       "      <th>3</th>\n",
       "      <td>Nice</td>\n",
       "      <td>positive</td>\n",
       "      <td>5</td>\n",
       "    </tr>\n",
       "    <tr>\n",
       "      <th>4</th>\n",
       "      <td>V good app</td>\n",
       "      <td>positive</td>\n",
       "      <td>4</td>\n",
       "    </tr>\n",
       "  </tbody>\n",
       "</table>\n",
       "</div>"
      ],
      "text/plain": [
       "                                             content sentiment  reviews_score\n",
       "0                                                Gud   neutral              5\n",
       "1                                         High rates   neutral              1\n",
       "2  It took 1.5 hours to cover a distance of 1 km ...  negative              1\n",
       "3                                               Nice  positive              5\n",
       "4                                         V good app  positive              4"
      ]
     },
     "execution_count": 18,
     "metadata": {},
     "output_type": "execute_result"
    }
   ],
   "source": [
    "reviews_sentiment.head()"
   ]
  },
  {
   "cell_type": "code",
   "execution_count": 19,
   "id": "7b0e1d80",
   "metadata": {},
   "outputs": [
    {
     "data": {
      "text/plain": [
       "positive    2125\n",
       "neutral     1736\n",
       "negative     471\n",
       "mixed         75\n",
       "Name: sentiment, dtype: int64"
      ]
     },
     "execution_count": 19,
     "metadata": {},
     "output_type": "execute_result"
    }
   ],
   "source": [
    "# Count number of review content sentiment\n",
    "reviews_sentiment['sentiment'].value_counts()"
   ]
  },
  {
   "cell_type": "code",
   "execution_count": 20,
   "id": "be03c536",
   "metadata": {},
   "outputs": [
    {
     "data": {
      "text/plain": [
       "<AxesSubplot:ylabel='content'>"
      ]
     },
     "execution_count": 20,
     "metadata": {},
     "output_type": "execute_result"
    },
    {
     "data": {
      "image/png": "[encoded data removed]",
      "text/plain": [
       "<Figure size 576x576 with 1 Axes>"
      ]
     },
     "metadata": {},
     "output_type": "display_data"
    }
   ],
   "source": [
    "# Visualize review content sentiment as pie chart.\n",
    "reviews_sentiment.groupby(['sentiment']).count().plot(kind='pie', y='content', figsize=(8,8), autopct='%1.1f%%')"
   ]
  },
  {
   "cell_type": "markdown",
   "id": "f144cff5",
   "metadata": {},
   "source": [
    "##### Grouping and analyzing the reviews with respect to the rating they provided."
   ]
  },
  {
   "cell_type": "code",
   "execution_count": 21,
   "id": "93be3f75",
   "metadata": {},
   "outputs": [
    {
     "data": {
      "text/plain": [
       "sentiment  reviews_score\n",
       "mixed      1                  48\n",
       "           2                   8\n",
       "           3                   8\n",
       "           4                   4\n",
       "           5                   7\n",
       "negative   1                 394\n",
       "           2                  30\n",
       "           3                  19\n",
       "           4                  10\n",
       "           5                  18\n",
       "neutral    1                 910\n",
       "           2                  91\n",
       "           3                  78\n",
       "           4                  83\n",
       "           5                 574\n",
       "positive   1                 255\n",
       "           2                  43\n",
       "           3                  77\n",
       "           4                 264\n",
       "           5                1486\n",
       "Name: content, dtype: int64"
      ]
     },
     "execution_count": 21,
     "metadata": {},
     "output_type": "execute_result"
    }
   ],
   "source": [
    "# Group by sentiment & reviews_score\n",
    "reviews_sentiment.groupby([\"sentiment\", \"reviews_score\"])[\"content\"].count()"
   ]
  },
  {
   "cell_type": "markdown",
   "id": "4a17911d",
   "metadata": {},
   "source": [
    "##### The highest sentiment are of positive with score rating of 5 stars, followed by neutral  and negative."
   ]
  },
  {
   "cell_type": "code",
   "execution_count": 22,
   "id": "a4c9bc03",
   "metadata": {},
   "outputs": [
    {
     "data": {
      "text/plain": [
       "<AxesSubplot:xlabel='sentiment'>"
      ]
     },
     "execution_count": 22,
     "metadata": {},
     "output_type": "execute_result"
    },
    {
     "data": {
      "image/png": "[encoded data removed]",
      "text/plain": [
       "<Figure size 864x576 with 1 Axes>"
      ]
     },
     "metadata": {
      "needs_background": "light"
     },
     "output_type": "display_data"
    }
   ],
   "source": [
    "# Visual sentiment & reviews_score as bar chart\n",
    "pd.crosstab(reviews_sentiment['sentiment'],reviews_sentiment['reviews_score']).plot.bar(figsize=(12,8))"
   ]
  },
  {
   "cell_type": "code",
   "execution_count": 23,
   "id": "e59167b8",
   "metadata": {},
   "outputs": [
    {
     "name": "stdout",
     "output_type": "stream",
     "text": [
      "<class 'pandas.core.frame.DataFrame'>\n",
      "RangeIndex: 4407 entries, 0 to 4406\n",
      "Data columns (total 3 columns):\n",
      " #   Column         Non-Null Count  Dtype \n",
      "---  ------         --------------  ----- \n",
      " 0   content        4407 non-null   object\n",
      " 1   sentiment      4407 non-null   object\n",
      " 2   reviews_score  4407 non-null   int64 \n",
      "dtypes: int64(1), object(2)\n",
      "memory usage: 103.4+ KB\n"
     ]
    }
   ],
   "source": [
    "# Check dataframe information\n",
    "reviews_sentiment.info()"
   ]
  },
  {
   "cell_type": "code",
   "execution_count": 24,
   "id": "eb82fcc8",
   "metadata": {},
   "outputs": [],
   "source": [
    "# Create new dataframe to perform factorization\n",
    "reviews_sentiment_factorized = reviews_sentiment.copy()"
   ]
  },
  {
   "cell_type": "code",
   "execution_count": 25,
   "id": "bacb54d2",
   "metadata": {},
   "outputs": [],
   "source": [
    "# Perform factorization for sentiment column\n",
    "reviews_sentiment_factorized.sentiment = pd.factorize(reviews_sentiment_factorized.sentiment)[0]\n",
    "\n",
    "# Convert reviews_score column data type to intager\n",
    "reviews_sentiment_factorized['reviews_score'] = reviews_sentiment_factorized['reviews_score'].astype(int)\n",
    "\n"
   ]
  },
  {
   "cell_type": "code",
   "execution_count": 26,
   "id": "f78b38cf",
   "metadata": {},
   "outputs": [
    {
     "name": "stdout",
     "output_type": "stream",
     "text": [
      "<class 'pandas.core.frame.DataFrame'>\n",
      "RangeIndex: 4407 entries, 0 to 4406\n",
      "Data columns (total 3 columns):\n",
      " #   Column         Non-Null Count  Dtype \n",
      "---  ------         --------------  ----- \n",
      " 0   content        4407 non-null   object\n",
      " 1   sentiment      4407 non-null   int64 \n",
      " 2   reviews_score  4407 non-null   int32 \n",
      "dtypes: int32(1), int64(1), object(1)\n",
      "memory usage: 86.2+ KB\n"
     ]
    }
   ],
   "source": [
    "# Check dataframe information\n",
    "reviews_sentiment_factorized.info()"
   ]
  },
  {
   "cell_type": "code",
   "execution_count": 27,
   "id": "9dca407d",
   "metadata": {},
   "outputs": [
    {
     "data": {
      "text/plain": [
       "sentiment  reviews_score\n",
       "0          1                 910\n",
       "           2                  91\n",
       "           3                  78\n",
       "           4                  83\n",
       "           5                 574\n",
       "1          1                 394\n",
       "           2                  30\n",
       "           3                  19\n",
       "           4                  10\n",
       "           5                  18\n",
       "2          1                 255\n",
       "           2                  43\n",
       "           3                  77\n",
       "           4                 264\n",
       "           5                1486\n",
       "3          1                  48\n",
       "           2                   8\n",
       "           3                   8\n",
       "           4                   4\n",
       "           5                   7\n",
       "Name: content, dtype: int64"
      ]
     },
     "execution_count": 27,
     "metadata": {},
     "output_type": "execute_result"
    }
   ],
   "source": [
    "# Group by sentiment (factorized) & reviews_score\n",
    "reviews_sentiment_factorized.groupby([\"sentiment\", \"reviews_score\"])[\"content\"].count()"
   ]
  },
  {
   "cell_type": "code",
   "execution_count": 28,
   "id": "1836bde2",
   "metadata": {},
   "outputs": [
    {
     "data": {
      "image/png": "[encoded data removed]",
      "text/plain": [
       "<Figure size 864x576 with 1 Axes>"
      ]
     },
     "metadata": {
      "needs_background": "light"
     },
     "output_type": "display_data"
    }
   ],
   "source": [
    "# Plotting sentiment & reviews_score columns relationship by Seaborn.\n",
    "fig, ax = plt.subplots()\n",
    "fig.set_size_inches(12, 8)\n",
    "plt.title('Statistical Analysis by Sentiment Score and Review Score', fontsize=10)\n",
    "sns.regplot(x='sentiment', y= 'reviews_score', data=reviews_sentiment_factorized)\n",
    "sns.despine()"
   ]
  },
  {
   "cell_type": "markdown",
   "id": "e65bc298",
   "metadata": {},
   "source": [
    "Data Analysis from Visualization\n",
    "\n",
    "Positive sentiment (2) from review content is trending to higher reivew score around 4 to 5.\n",
    "\n",
    "Negative sentiment (1) from review content is trending to lower review score.\n",
    "\n",
    "Neutral sentiment (0) from review content is trending to lowest review score.\n",
    "\n",
    "In other word, lower review score is trending to Neutral sentiment(0).\n"
   ]
  },
  {
   "cell_type": "markdown",
   "id": "60d8dda0",
   "metadata": {},
   "source": [
    "The review Score are totally dependent on the sentiments, in this observation if the sentiments are from negative to neutral lower the score is."
   ]
  },
  {
   "cell_type": "code",
   "execution_count": null,
   "id": "87b59561",
   "metadata": {},
   "outputs": [],
   "source": []
  }
 ],
 "metadata": {
  "kernelspec": {
   "display_name": "Python 3 (ipykernel)",
   "language": "python",
   "name": "python3"
  },
  "language_info": {
   "codemirror_mode": {
    "name": "ipython",
    "version": 3
   },
   "file_extension": ".py",
   "mimetype": "text/x-python",
   "name": "python",
   "nbconvert_exporter": "python",
   "pygments_lexer": "ipython3",
   "version": "3.9.12"
  }
 },
 "nbformat": 4,
 "nbformat_minor": 5
}
